{
 "cells": [
  {
   "cell_type": "code",
   "execution_count": 1,
   "id": "60f2d6c7",
   "metadata": {},
   "outputs": [],
   "source": [
    "#extract zip with files for this to work, can't push > 100MB\n",
    "\n",
    "def find_two_column_sequences(filepath):\n",
    "    with open(filepath, 'r', encoding='utf-8') as file:\n",
    "        line_number = 0\n",
    "        in_sequence = False\n",
    "        sequence_start = None\n",
    "\n",
    "        for raw_line in file:\n",
    "            line_number += 1\n",
    "            line = raw_line.strip()\n",
    "\n",
    "            if not line: \n",
    "                continue\n",
    "\n",
    "            columns = line.split('\\t')\n",
    "\n",
    "            if len(columns) == 2:\n",
    "                if not in_sequence:\n",
    "                    sequence_start = line_number\n",
    "                    in_sequence = True\n",
    "            else:\n",
    "                if in_sequence:\n",
    "                    print(f\"Sequence of 2-column lines from line {sequence_start} to {line_number - 1}\")\n",
    "                    in_sequence = False\n",
    "\n",
    "\n",
    "        if in_sequence:\n",
    "            print(f\"Sequence of 2-column lines from line {sequence_start} to {line_number}\")\n",
    "\n"
   ]
  },
  {
   "cell_type": "code",
   "execution_count": 2,
   "id": "943fab69",
   "metadata": {},
   "outputs": [
    {
     "name": "stdout",
     "output_type": "stream",
     "text": [
      "corpus0\n"
     ]
    },
    {
     "ename": "FileNotFoundError",
     "evalue": "[Errno 2] No such file or directory: 'fullCorpus0.txt'",
     "output_type": "error",
     "traceback": [
      "\u001b[1;31m---------------------------------------------------------------------------\u001b[0m",
      "\u001b[1;31mFileNotFoundError\u001b[0m                         Traceback (most recent call last)",
      "Cell \u001b[1;32mIn[2], line 3\u001b[0m\n\u001b[0;32m      1\u001b[0m \u001b[38;5;28;01mfor\u001b[39;00m i \u001b[38;5;129;01min\u001b[39;00m \u001b[38;5;28mrange\u001b[39m(\u001b[38;5;241m6\u001b[39m):\n\u001b[0;32m      2\u001b[0m     \u001b[38;5;28mprint\u001b[39m(\u001b[38;5;124mf\u001b[39m\u001b[38;5;124m'\u001b[39m\u001b[38;5;124mcorpus\u001b[39m\u001b[38;5;132;01m{\u001b[39;00mi\u001b[38;5;132;01m}\u001b[39;00m\u001b[38;5;124m'\u001b[39m)\n\u001b[1;32m----> 3\u001b[0m     find_two_column_sequences(\u001b[38;5;124mf\u001b[39m\u001b[38;5;124m'\u001b[39m\u001b[38;5;124mfullCorpus\u001b[39m\u001b[38;5;132;01m{\u001b[39;00mi\u001b[38;5;132;01m}\u001b[39;00m\u001b[38;5;124m.txt\u001b[39m\u001b[38;5;124m'\u001b[39m)\n",
      "Cell \u001b[1;32mIn[1], line 4\u001b[0m, in \u001b[0;36mfind_two_column_sequences\u001b[1;34m(filepath)\u001b[0m\n\u001b[0;32m      3\u001b[0m \u001b[38;5;28;01mdef\u001b[39;00m \u001b[38;5;21mfind_two_column_sequences\u001b[39m(filepath):\n\u001b[1;32m----> 4\u001b[0m     \u001b[38;5;28;01mwith\u001b[39;00m \u001b[38;5;28mopen\u001b[39m(filepath, \u001b[38;5;124m'\u001b[39m\u001b[38;5;124mr\u001b[39m\u001b[38;5;124m'\u001b[39m, encoding\u001b[38;5;241m=\u001b[39m\u001b[38;5;124m'\u001b[39m\u001b[38;5;124mutf-8\u001b[39m\u001b[38;5;124m'\u001b[39m) \u001b[38;5;28;01mas\u001b[39;00m file:\n\u001b[0;32m      5\u001b[0m         line_number \u001b[38;5;241m=\u001b[39m \u001b[38;5;241m0\u001b[39m\n\u001b[0;32m      6\u001b[0m         in_sequence \u001b[38;5;241m=\u001b[39m \u001b[38;5;28;01mFalse\u001b[39;00m\n",
      "File \u001b[1;32mc:\\Programs\\Anaconda\\Lib\\site-packages\\IPython\\core\\interactiveshell.py:310\u001b[0m, in \u001b[0;36m_modified_open\u001b[1;34m(file, *args, **kwargs)\u001b[0m\n\u001b[0;32m    303\u001b[0m \u001b[38;5;28;01mif\u001b[39;00m file \u001b[38;5;129;01min\u001b[39;00m {\u001b[38;5;241m0\u001b[39m, \u001b[38;5;241m1\u001b[39m, \u001b[38;5;241m2\u001b[39m}:\n\u001b[0;32m    304\u001b[0m     \u001b[38;5;28;01mraise\u001b[39;00m \u001b[38;5;167;01mValueError\u001b[39;00m(\n\u001b[0;32m    305\u001b[0m         \u001b[38;5;124mf\u001b[39m\u001b[38;5;124m\"\u001b[39m\u001b[38;5;124mIPython won\u001b[39m\u001b[38;5;124m'\u001b[39m\u001b[38;5;124mt let you open fd=\u001b[39m\u001b[38;5;132;01m{\u001b[39;00mfile\u001b[38;5;132;01m}\u001b[39;00m\u001b[38;5;124m by default \u001b[39m\u001b[38;5;124m\"\u001b[39m\n\u001b[0;32m    306\u001b[0m         \u001b[38;5;124m\"\u001b[39m\u001b[38;5;124mas it is likely to crash IPython. If you know what you are doing, \u001b[39m\u001b[38;5;124m\"\u001b[39m\n\u001b[0;32m    307\u001b[0m         \u001b[38;5;124m\"\u001b[39m\u001b[38;5;124myou can use builtins\u001b[39m\u001b[38;5;124m'\u001b[39m\u001b[38;5;124m open.\u001b[39m\u001b[38;5;124m\"\u001b[39m\n\u001b[0;32m    308\u001b[0m     )\n\u001b[1;32m--> 310\u001b[0m \u001b[38;5;28;01mreturn\u001b[39;00m io_open(file, \u001b[38;5;241m*\u001b[39margs, \u001b[38;5;241m*\u001b[39m\u001b[38;5;241m*\u001b[39mkwargs)\n",
      "\u001b[1;31mFileNotFoundError\u001b[0m: [Errno 2] No such file or directory: 'fullCorpus0.txt'"
     ]
    }
   ],
   "source": [
    "for i in range(6):\n",
    "    print(f'corpus{i}')\n",
    "    find_two_column_sequences(f'fullCorpus{i}.txt')\n"
   ]
  },
  {
   "cell_type": "code",
   "execution_count": null,
   "id": "e6d05c17",
   "metadata": {},
   "outputs": [
    {
     "name": "stdout",
     "output_type": "stream",
     "text": [
      "fullCorpus0.txt\n",
      "0\tiure\n",
      "0\tper\n",
      "0\tfecisset\n",
      "fullCorpus1.txt\n",
      "0\tiure\n",
      "0\tper\n",
      "0\tfecisset\n",
      "fullCorpus2.txt\n",
      "0\tiure\n",
      "0\tper\n",
      "0\tfecisset\n",
      "fullCorpus3.txt\n",
      "0\tiure\n",
      "0\tper\n",
      "0\tfecisset\n",
      "fullCorpus4.txt\n",
      "0\tiure\n",
      "0\tper\n",
      "0\tfecisset\n",
      "fullCorpus5.txt\n",
      "0\tiure\n",
      "0\tper\n",
      "0\tfecisset\n"
     ]
    }
   ],
   "source": [
    "for i in range(6):\n",
    "   \n",
    "    print(f\"fullCorpus{i}.txt\")\n",
    "\n",
    "    with open(f'fullCorpus{i}.txt', 'r', encoding='utf-8') as file:\n",
    "        line_number = 0\n",
    "        for raw_line in file:\n",
    "            line_number += 1\n",
    "            if line_number == 66550:\n",
    "                print(raw_line.strip())\n",
    "            if line_number == 70000:\n",
    "                print(raw_line.strip())\n",
    "            if line_number == 130000:\n",
    "                print(raw_line.strip())\n",
    "                break\n",
    "                \n",
    "    \n",
    "    \n",
    "    \n",
    "\n",
    "    "
   ]
  },
  {
   "cell_type": "code",
   "execution_count": 3,
   "id": "a1969184",
   "metadata": {},
   "outputs": [],
   "source": [
    "# Latin 4\n",
    "# Sequence of 2-column lines from line 1 to 66556 : Cesars De Bello Gallico (BG)\n",
    "# Sequence of 2-column lines from line 66558 to 86555: Ovid's Ars Amatoria (AA)\n",
    "# Sequence of 2-column lines from line 126056 to 146067: Pliny the Younger Epistulae (EP)\n",
    "\n"
   ]
  },
  {
   "cell_type": "code",
   "execution_count": 7,
   "id": "6f11d008",
   "metadata": {},
   "outputs": [],
   "source": [
    "def extract_lines(input_file, start_line, end_line, output_file):\n",
    "    with open(input_file, 'r', encoding='utf-8') as infile, open(output_file, 'w', encoding='utf-8') as outfile:\n",
    "        for current_line_number, line in enumerate(infile, start=1):\n",
    "            if start_line <= current_line_number <= end_line:\n",
    "                outfile.write(line)\n",
    "                \n",
    "extract_lines('fullCorpus0.txt', 1, 66556, 'cesar.txt')\n",
    "extract_lines('fullCorpus0.txt', 66558, 86555, 'ovid.txt')\n",
    "extract_lines('fullCorpus0.txt', 126056, 146067, 'pliny.txt')\n"
   ]
  },
  {
   "cell_type": "code",
   "execution_count": 5,
   "id": "c7be12c7",
   "metadata": {},
   "outputs": [
    {
     "name": "stdout",
     "output_type": "stream",
     "text": [
      "Saved LIBER_PRIMUS.txt from line 10 to 4835\n",
      "Saved COMENTARIUS_QUARTUS.txt from line 4836 to 23333\n",
      "Saved COMENTARIUS_PRIMUS.txt from line 23334 to 32706\n",
      "Saved COMENTARIUS_SECUNDUS.txt from line 32707 to 37439\n",
      "Saved COMENTARIUS_TERTIUS.txt from line 37440 to 41524\n",
      "Saved COMENTARIUS_QUINTUS.txt from line 41525 to 44026\n",
      "Saved COMENTARIUS_SEPTIMUS.txt from line 44027 to 50009\n",
      "Saved COMENTARIUS_SEXTUS.txt from line 50010 to 56312\n",
      "Saved COMENTARIUS_OCTAVUS.txt from line 56313 to 66555\n"
     ]
    }
   ],
   "source": [
    "book_starts = [\n",
    "     (\"LIBER_PRIMUS\", [\"Litteris\", \"a\", \"Fabio\", \"C.\", \"Caesaris\", \"consulibus\", \"redditis\"]),\n",
    "        (\"LIBER_SECUNDUS\", [\"Dum\", \"haec\", \"in\", \"Hispania\", \"geruntur\"]), # not in the text?\n",
    "        # (\"LIBER_TERTIUS\", []),\n",
    "    (\"COMENTARIUS_PRIMUS\", [\"Gallia\", \"est\", \"omnis\", \"divisa\", \"in\", \"partes\", \"tres\"]),\n",
    "    (\"COMENTARIUS_SECUNDUS\", [\"Cum\", \"esset\", \"Caesar\", \"in\", \"citeriore\", \"Gallia\"]),\n",
    "    (\"COMENTARIUS_TERTIUS\", [\"Cum\", \"in\", \"Italiam\", \"proficisceretur\"]),\n",
    "    (\"COMENTARIUS_QUARTUS\", [\"Ea\", \"quae\", \"secuta\", \"est\", \"hieme\"]),\n",
    "    (\"COMENTARIUS_QUINTUS\", [\"L.\", \"Domitio\", \"Ap.\", \"Claudio\"]),\n",
    "    (\"COMENTARIUS_SEXTUS\", [\"Multis\", \"de\", \"causis\", \"Caesar\", \"maiorem\"]),\n",
    "    (\"COMENTARIUS_SEPTIMUS\", [\"Gaio\", \"Trebonio\", \"legato\"]),\n",
    "    (\"COMENTARIUS_OCTAVUS\", [\"Coactus\", \"assiduis\", \"tuis\", \"vocibus\"]),\n",
    "]\n",
    "\n",
    "def split_books(filepath):\n",
    "    with open(filepath, 'r', encoding='utf-8') as f:\n",
    "        lines = f.readlines()\n",
    "\n",
    "    words = [line.strip().split('\\t')[1] for line in lines if '\\t' in line]\n",
    "\n",
    "    current_book = None\n",
    "  \n",
    "\n",
    "    start_idx = 0\n",
    "    for i in range(len(words)):\n",
    "        for book_name, start_seq in book_starts:\n",
    "            if words[i:i+len(start_seq)] == start_seq:\n",
    "                if current_book:\n",
    "                    with open(f\"{current_book}.txt\", 'w', encoding='utf-8') as f_out:\n",
    "                        f_out.writelines(lines[start_idx:i])\n",
    "                    print(f\"Saved {current_book}.txt from line {start_idx} to {i-1}\")\n",
    "\n",
    "                current_book = book_name\n",
    "                start_idx = i\n",
    "                break\n",
    "\n",
    "\n",
    "    if current_book:\n",
    "        with open(f\"{current_book}.txt\", 'w', encoding='utf-8') as f_out:\n",
    "            f_out.writelines(lines[start_idx:])\n",
    "        print(f\"Saved {current_book}.txt from line {start_idx} to {len(lines)-1}\")\n",
    "\n",
    "split_books('../CleanedData/cesar.txt')\n"
   ]
  },
  {
   "attachments": {
    "image.png": {
     "image/png": "[encoded data removed]"
    }
   },
   "cell_type": "markdown",
   "id": "25c60693",
   "metadata": {},
   "source": [
    "![image.png](attachment:image.png)"
   ]
  },
  {
   "cell_type": "markdown",
   "id": "6944aa6b",
   "metadata": {},
   "source": [
    "##RUN FROM THIS CELL DOWN"
   ]
  },
  {
   "cell_type": "code",
   "execution_count": 2,
   "id": "5de74130",
   "metadata": {},
   "outputs": [
    {
     "name": "stdout",
     "output_type": "stream",
     "text": [
      "Test 1: 18676\n",
      "Train 1: 81289\n",
      "Test 2: 17564\n",
      "Train 2: 82401\n",
      "Test 3: 10239\n",
      "Train 3: 48895\n"
     ]
    }
   ],
   "source": [
    "def open_book(filepath):\n",
    "    with open(filepath, 'r', encoding='utf-8') as f:\n",
    "        lines = f.readlines()\n",
    "    words = [line.strip().split('\\t')[1] for line in lines if '\\t' in line]\n",
    "    return words\n",
    "\n",
    "\n",
    "EP = open_book('pliny.txt')\n",
    "BG = open_book('cesar.txt')\n",
    "AA = open_book('ovid.txt')\n",
    "BG1 = open_book('COMENTARIUS_PRIMUS.txt')\n",
    "BG2 = open_book('COMENTARIUS_SECUNDUS.txt')\n",
    "BG3 = open_book('COMENTARIUS_TERTIUS.txt')\n",
    "BG4 = open_book('COMENTARIUS_QUARTUS.txt')\n",
    "BG5 = open_book('COMENTARIUS_QUINTUS.txt')\n",
    "BG6 = open_book('COMENTARIUS_SEXTUS.txt')\n",
    "BG7 = open_book('COMENTARIUS_SEPTIMUS.txt')\n",
    "BG8 = open_book('COMENTARIUS_OCTAVUS.txt')\n",
    "\n",
    "test1 = EP\n",
    "train1 = BG + AA\n",
    "print (f'Test 1: {len(test1)}')\n",
    "print (f'Train 1: {len(train1)}')\n",
    "test2 = AA\n",
    "train2 = BG + EP\n",
    "print (f'Test 2: {len(test2)}')\n",
    "print (f'Train 2: {len(train2)}')\n",
    "\n",
    "test3 = BG2+BG7\n",
    "train3 = BG1+BG3+BG4+BG5+BG6+BG8  # + EP + AA ?????\n",
    "print (f'Test 3: {len(test3)}')\n",
    "print (f'Train 3: {len(train3)}')\n",
    "\n",
    "\n",
    "\n"
   ]
  },
  {
   "cell_type": "code",
   "execution_count": 3,
   "id": "fce7e93b",
   "metadata": {},
   "outputs": [],
   "source": [
    "# Creating a script to have the right format for words and labels in an array for Word2Vec\n",
    "# Previous script (open_book) does not include labels, but it's still great for a quick generation of words-only data\n",
    "def create_sentence_arrays(filename):\n",
    "    \"\"\"\n",
    "    Grabs pre-split files, and puts them in an array for Word2Vec\n",
    "    Sentence example: [('C.', PRS-B), ('Plinius', PRS-I)]\n",
    "    \"\"\"\n",
    "    sentences, sentence = [], []\n",
    "    with open(filename, 'r', encoding='utf-8') as f:\n",
    "        for line in f:\n",
    "            line = line.strip()\n",
    "            if not line: # Clever way to check for sentence break \n",
    "                if sentence:\n",
    "                    sentences.append(sentence)\n",
    "                    sentence = []\n",
    "            else:\n",
    "                label, word = line.split('\\t')\n",
    "                sentence.append((word, label))\n",
    "        if sentence:\n",
    "            sentences.append(sentence)\n",
    "    return sentences"
   ]
  },
  {
   "cell_type": "code",
   "execution_count": 4,
   "id": "9d64a38f",
   "metadata": {},
   "outputs": [],
   "source": [
    "# Word2Vec\n",
    "from gensim.models import Word2Vec\n",
    "sentences = create_sentence_arrays(\"pliny.txt\")\n",
    "sentences_for_w2v = [[word for word, label in sentence] for sentence in sentences]\n",
    "w2v = Word2Vec(sentences=sentences_for_w2v, vector_size=100, window=5, min_count=1)"
   ]
  },
  {
   "cell_type": "code",
   "execution_count": 5,
   "id": "fce1e563",
   "metadata": {},
   "outputs": [],
   "source": [
    "# Vectorizing each sentence, as Word2Vec only gives word vectors, but we need full sentences put together.\n",
    "import numpy as np\n",
    "def vectorize_sentence(sentence, model):\n",
    "    vectors = []\n",
    "    for word, _ in sentence:\n",
    "        if word in model.wv:\n",
    "            vectors.append(model.wv[word])\n",
    "        else:\n",
    "            vectors.append(np.zeros(model.vector_size))\n",
    "    return np.array(vectors)\n",
    "\n",
    "X = [vectorize_sentence(sentence, w2v) for sentence in sentences]\n",
    "y = [[label for _, label in sentence] for sentence in sentences]\n",
    "\n",
    "# Still needs to be padded out for training a model (something about that during one of the lectures was mentioned)\n",
    "# labels also generated as we will need to somehow grab estimations ;)"
   ]
  },
  {
   "cell_type": "code",
   "execution_count": 6,
   "id": "a90fea5e",
   "metadata": {},
   "outputs": [
    {
     "name": "stderr",
     "output_type": "stream",
     "text": [
      "c:\\Users\\wenz\\Documents\\GitHub\\Latin-NER-NLP\\.venv\\Lib\\site-packages\\joblib\\externals\\loky\\backend\\context.py:136: UserWarning: Could not find the number of physical cores for the following reason:\n",
      "[WinError 2] The system cannot find the file specified\n",
      "Returning the number of logical cores instead. You can silence this warning by setting LOKY_MAX_CPU_COUNT to the number of cores you want to use.\n",
      "  warnings.warn(\n",
      "  File \"c:\\Users\\wenz\\Documents\\GitHub\\Latin-NER-NLP\\.venv\\Lib\\site-packages\\joblib\\externals\\loky\\backend\\context.py\", line 257, in _count_physical_cores\n",
      "    cpu_info = subprocess.run(\n",
      "               ^^^^^^^^^^^^^^^\n",
      "  File \"C:\\Users\\wenz\\AppData\\Local\\Programs\\Python\\Python311\\Lib\\subprocess.py\", line 548, in run\n",
      "    with Popen(*popenargs, **kwargs) as process:\n",
      "         ^^^^^^^^^^^^^^^^^^^^^^^^^^^\n",
      "  File \"C:\\Users\\wenz\\AppData\\Local\\Programs\\Python\\Python311\\Lib\\subprocess.py\", line 1026, in __init__\n",
      "    self._execute_child(args, executable, preexec_fn, close_fds,\n",
      "  File \"C:\\Users\\wenz\\AppData\\Local\\Programs\\Python\\Python311\\Lib\\subprocess.py\", line 1538, in _execute_child\n",
      "    hp, ht, pid, tid = _winapi.CreateProcess(executable, args,\n",
      "                       ^^^^^^^^^^^^^^^^^^^^^^^^^^^^^^^^^^^^^^^\n"
     ]
    }
   ],
   "source": [
    "from sklearn.cluster import KMeans\n",
    "\n",
    "\n",
    "word_vectors = np.array([w2v.wv[word] for word in w2v.wv.index_to_key])\n",
    "kmeans = KMeans(n_clusters=100, random_state=42).fit(word_vectors)\n",
    "\n",
    "\n",
    "word_to_cluster = {word: cluster for word, cluster in zip(w2v.wv.index_to_key, kmeans.labels_)}\n",
    "\n",
    "\n",
    "pred_labels = []\n",
    "for sentence in sentences_for_w2v:\n",
    "    pred_labels.append([word_to_cluster.get(word, -1) for word in sentence])\n",
    "\n",
    "# for cluster_id in range(n_clusters):\n",
    "#     print(f\"\\nCluster {cluster_id}:\")\n",
    "#     words_in_cluster = [word for word, cl in word_to_cluster.items() if cl == cluster_id]\n",
    "#     print(words_in_cluster[:10])\n"
   ]
  },
  {
   "cell_type": "code",
   "execution_count": 7,
   "id": "259d8ade",
   "metadata": {},
   "outputs": [
    {
     "name": "stdout",
     "output_type": "stream",
     "text": [
      "              precision    recall  f1-score   support\n",
      "\n",
      "  Non-Entity       0.97      1.00      0.98     18058\n",
      "      Entity       0.00      0.00      0.00       618\n",
      "\n",
      "    accuracy                           0.97     18676\n",
      "   macro avg       0.48      0.50      0.49     18676\n",
      "weighted avg       0.93      0.97      0.95     18676\n",
      "\n"
     ]
    },
    {
     "name": "stderr",
     "output_type": "stream",
     "text": [
      "c:\\Users\\wenz\\Documents\\GitHub\\Latin-NER-NLP\\.venv\\Lib\\site-packages\\sklearn\\metrics\\_classification.py:1565: UndefinedMetricWarning: Precision is ill-defined and being set to 0.0 in labels with no predicted samples. Use `zero_division` parameter to control this behavior.\n",
      "  _warn_prf(average, modifier, f\"{metric.capitalize()} is\", len(result))\n",
      "c:\\Users\\wenz\\Documents\\GitHub\\Latin-NER-NLP\\.venv\\Lib\\site-packages\\sklearn\\metrics\\_classification.py:1565: UndefinedMetricWarning: Precision is ill-defined and being set to 0.0 in labels with no predicted samples. Use `zero_division` parameter to control this behavior.\n",
      "  _warn_prf(average, modifier, f\"{metric.capitalize()} is\", len(result))\n",
      "c:\\Users\\wenz\\Documents\\GitHub\\Latin-NER-NLP\\.venv\\Lib\\site-packages\\sklearn\\metrics\\_classification.py:1565: UndefinedMetricWarning: Precision is ill-defined and being set to 0.0 in labels with no predicted samples. Use `zero_division` parameter to control this behavior.\n",
      "  _warn_prf(average, modifier, f\"{metric.capitalize()} is\", len(result))\n"
     ]
    }
   ],
   "source": [
    "from collections import defaultdict\n",
    "from sklearn.metrics import classification_report\n",
    "\n",
    "\n",
    "true_flat = []\n",
    "for sentence in y:\n",
    "    for label in sentence:\n",
    "        true_flat.append(1 if label != '0' else 0)\n",
    "pred_flat = []\n",
    "for sentence in pred_labels:\n",
    "    pred_flat.extend(sentence)\n",
    "cluster_to_true = defaultdict(list)\n",
    "for p, t in zip(pred_flat, true_flat):\n",
    "    cluster_to_true[p].append(t)\n",
    "cluster_to_entity = {\n",
    "    cluster_id: (sum(labels) / len(labels)) >= 0.5\n",
    "    for cluster_id, labels in cluster_to_true.items()\n",
    "}\n",
    "pred_entity_flat = [int(cluster_to_entity[p]) for p in pred_flat]\n",
    "\n",
    "\n",
    "print(classification_report(true_flat, pred_entity_flat, target_names=[\"Non-Entity\", \"Entity\"]))\n"
   ]
  },
  {
   "cell_type": "markdown",
   "id": "b73d1fd1",
   "metadata": {},
   "source": [
    "Results are shit, Kmeans are shit. try DBSCAN"
   ]
  },
  {
   "cell_type": "code",
   "execution_count": 8,
   "id": "93184d0c",
   "metadata": {},
   "outputs": [],
   "source": [
    "from sklearn.cluster import DBSCAN\n",
    "import numpy as np\n",
    "\n",
    "\n",
    "word_vectors = np.array([w2v.wv[word] for word in w2v.wv.index_to_key])\n",
    "dbscan = DBSCAN(eps=0.15, min_samples=2).fit(word_vectors)\n",
    "word_to_cluster = {\n",
    "    word: cluster_id for word, cluster_id in zip(w2v.wv.index_to_key, dbscan.labels_)\n",
    "}\n",
    "#repeated, to run without touching clustering\n",
    "pred_labels = []\n",
    "for sentence in sentences_for_w2v:  \n",
    "    pred_labels.append([word_to_cluster.get(word, -1) for word in sentence])"
   ]
  },
  {
   "cell_type": "code",
   "execution_count": 9,
   "id": "9cf8542d",
   "metadata": {},
   "outputs": [
    {
     "name": "stdout",
     "output_type": "stream",
     "text": [
      "DBSCAN found 2 clusters\n"
     ]
    }
   ],
   "source": [
    "num_clusters = len(set(dbscan.labels_)) - (1 if -1 in dbscan.labels_ else 0)\n",
    "print(f\"DBSCAN found {num_clusters} clusters\")\n"
   ]
  },
  {
   "cell_type": "code",
   "execution_count": 10,
   "id": "bdf0d521",
   "metadata": {},
   "outputs": [
    {
     "name": "stdout",
     "output_type": "stream",
     "text": [
      "Avg dist: 0.1102, Min dist: 0.0561, Max dist: 3.4784\n"
     ]
    }
   ],
   "source": [
    "from sklearn.metrics import pairwise_distances\n",
    "\n",
    "dists = pairwise_distances(word_vectors)\n",
    "avg_dist = np.mean(dists)\n",
    "min_dist = np.min(dists[np.nonzero(dists)])\n",
    "max_dist = np.max(dists)\n",
    "\n",
    "print(f\"Avg dist: {avg_dist:.4f}, Min dist: {min_dist:.4f}, Max dist: {max_dist:.4f}\")\n"
   ]
  },
  {
   "cell_type": "markdown",
   "id": "e1b53a1e",
   "metadata": {},
   "source": [
    "Fail, try BERT supported"
   ]
  },
  {
   "cell_type": "code",
   "execution_count": 11,
   "id": "f116526b",
   "metadata": {},
   "outputs": [],
   "source": [
    "sentences = create_sentence_arrays(\"pliny.txt\")\n",
    "sentences_for_w2v = [[word for word, label in sentence] for sentence in sentences]\n"
   ]
  },
  {
   "cell_type": "code",
   "execution_count": 12,
   "id": "e2da4ff2",
   "metadata": {},
   "outputs": [
    {
     "name": "stderr",
     "output_type": "stream",
     "text": [
      "c:\\Users\\wenz\\Documents\\GitHub\\Latin-NER-NLP\\.venv\\Lib\\site-packages\\tqdm\\auto.py:21: TqdmWarning: IProgress not found. Please update jupyter and ipywidgets. See https://ipywidgets.readthedocs.io/en/stable/user_install.html\n",
      "  from .autonotebook import tqdm as notebook_tqdm\n"
     ]
    },
    {
     "name": "stdout",
     "output_type": "stream",
     "text": [
      "Total tokens processed: 18676\n"
     ]
    }
   ],
   "source": [
    "\n",
    "# High level overview of unsupervised NER pipeline\n",
    "# 1. Load BERT embeddings\n",
    "# 2. Cluster embeddings\n",
    "# 3. Map clusters to entity/non-entity\n",
    "# 4. Evaluate baseline\n",
    "# 5. Train reconstructor neural net\n",
    "# 6. Evaluate reconstructor\n",
    "\n",
    "from transformers import AutoTokenizer, AutoModel\n",
    "import torch\n",
    "import numpy as np\n",
    "from sklearn.cluster import KMeans\n",
    "from collections import defaultdict\n",
    "from sklearn.metrics import classification_report\n",
    "import torch.nn as nn\n",
    "\n",
    "tokenizer = AutoTokenizer.from_pretrained(\"bert-base-multilingual-cased\")\n",
    "model = AutoModel.from_pretrained(\"bert-base-multilingual-cased\")\n",
    "model.eval()  \n",
    "\n",
    "# get embeddings from BERT (from subword to word level)\n",
    "\n",
    "all_tokens = []  # each item will be {'word': ..., 'embedding': ..., 'sentence_idx': ...}\n",
    "\n",
    "with torch.no_grad():  \n",
    "    for idx, sentence in enumerate(sentences_for_w2v):\n",
    "        # Tokenize the sentence → BERT tokenizer splits into subwords, maps tokens to ids\n",
    "        encoded = tokenizer(sentence, return_tensors='pt', truncation=True, is_split_into_words=True, padding=True)\n",
    "        \n",
    "        # pass tokenized sentences through BERT model to get embeddings as last hidden state\n",
    "        outputs = model(**encoded)\n",
    "        embeddings = outputs.last_hidden_state.squeeze(0)  \n",
    "\n",
    "        word_ids = encoded.word_ids(0)  # maps subword positions to original word indices\n",
    "\n",
    "        \n",
    "        token_vecs = []  # will hold one embedding per original token\n",
    "        last_word_idx = None\n",
    "        subword_accum = [] #temporary storage for subword embeddings\n",
    "\n",
    "        for emb, word_idx in zip(embeddings, word_ids):\n",
    "            if word_idx is None:\n",
    "                continue  # skip special tokens \n",
    "            if word_idx != last_word_idx and subword_accum:\n",
    "               \n",
    "                avg_embedding = torch.mean(torch.stack(subword_accum), dim=0)\n",
    "                token_vecs.append((avg_embedding, last_word_idx))\n",
    "                subword_accum = []\n",
    "            subword_accum.append(emb)\n",
    "            last_word_idx = word_idx\n",
    "\n",
    "        #last word\n",
    "        if subword_accum:\n",
    "            avg_embedding = torch.mean(torch.stack(subword_accum), dim=0)\n",
    "            token_vecs.append((avg_embedding, last_word_idx))\n",
    "\n",
    "        for emb_vec, word_pos in token_vecs:\n",
    "            all_tokens.append({\n",
    "                'word': sentence[word_pos],\n",
    "                'embedding': emb_vec,  \n",
    "                'sentence_idx': idx\n",
    "            })\n",
    "\n",
    "print(f\"Total tokens processed: {len(all_tokens)}\")\n"
   ]
  },
  {
   "cell_type": "markdown",
   "id": "df048fc9",
   "metadata": {},
   "source": [
    "I put a cut here so that I don't constantly have to redo the parameters"
   ]
  },
  {
   "cell_type": "code",
   "execution_count": 13,
   "id": "25961901",
   "metadata": {},
   "outputs": [
    {
     "name": "stdout",
     "output_type": "stream",
     "text": [
      "Cluster mapping (Entity clusters): [16, 38, 462, 85, 66, 1267, 110, 997, 230, 946, 708, 641, 227, 825, 137, 562, 1343, 98, 1384, 124, 1559, 843, 420, 1239, 1183, 169, 1079, 771, 1457, 623, 876, 1303, 393, 879, 363, 1326, 1649, 966, 1424, 192, 165, 1845, 182, 429, 869, 198, 475, 362, 569, 1230, 785, 82, 1516, 1330, 1266, 1137, 670, 12, 242, 575, 15, 578, 1908, 1144, 914, 559, 319, 254, 510, 410, 744, 286, 1501, 293, 1695, 320, 190, 18, 727, 1775, 123, 297, 81, 995, 1030, 487, 1634, 127, 710, 541, 619, 516, 148, 545, 526, 533, 931, 1878, 130, 1753, 662, 1705, 801, 220, 460, 164, 134, 333, 1664, 146, 249, 1459, 272, 1270, 1760, 1442, 170, 1916, 1257, 1220, 138, 653, 582, 1369, 117, 113, 842, 874, 1462, 195, 1740, 34, 160, 1052, 1199, 793, 1486, 888, 777, 991, 1983, 1049, 223, 176, 10, 210, 1465, 465, 154, 336, 1766, 1308, 1300, 683, 70, 257, 445, 656, 379, 1974, 1115, 177, 105, 502, 163, 315, 1478, 1316, 207, 551, 810, 1007, 1588, 305, 339, 196, 263, 385, 1450, 335, 723, 1392, 434, 1121, 985, 975, 478, 147, 13, 356, 1173, 1771, 514, 556, 706, 226, 1026, 1902, 956, 390, 1258, 1127, 983, 1865, 1840, 1250, 1234, 596, 958, 704, 1716, 1574, 786, 108, 503, 1728, 805, 1817, 312, 219, 1110, 51, 661, 166, 181, 584, 1295, 120, 194, 1272, 388, 1514, 404, 864, 1487, 682, 1964, 939, 246, 1125, 1941, 72, 1208, 1561, 1077, 280, 1639, 73, 1800, 577, 528, 1209, 1788, 1319, 1474, 471, 1510, 71, 798, 925, 663, 1677, 1074, 39, 1461, 1228, 1358, 812, 1376, 1909, 1244, 1261, 1076, 1082, 1579, 522, 849, 1283, 592, 11, 289, 1310, 1554, 862, 598, 1296, 491, 822, 479, 882, 726, 512, 1243, 770, 1128, 461, 837, 101, 331, 456, 203, 1511, 299, 1937, 920, 65, 906, 247, 400, 1678, 1563, 922, 1259, 589, 1682, 310, 1217, 1378, 746, 999, 830, 1350, 686, 1854, 1652, 1723, 638, 900, 366, 1005, 816, 1235, 109, 1498, 1176, 1688, 76, 83, 1317, 1870, 1932, 1575, 1843, 1423, 817, 324, 1015, 875, 1112, 1725, 1093, 215, 416, 716, 357, 1327, 928, 1657, 631, 599, 1999, 907, 1404, 750, 1349, 454, 987, 248, 178, 1342, 1739, 43, 273, 833, 184, 1519, 1750, 1213, 894, 25, 376, 884, 1186, 1366, 1881, 1346, 54, 1073, 1446, 1706, 1598, 1418, 1309, 1421, 42, 1167, 1602, 532, 1191, 961, 1491, 755, 549, 776, 1041, 68, 131, 501, 953, 409, 97, 1047, 1824, 813, 579, 1445, 789, 1848, 1080, 763, 345, 567, 439, 1675, 1451, 444, 1955, 539, 1512, 1198, 943, 1696, 1935, 511, 455, 241, 657, 1436, 730, 472, 520, 824, 1279, 35, 480, 1735, 469, 278, 848, 1306, 1067, 1202, 1185, 1587, 814, 466, 600, 1662, 1591, 1846, 1943, 1222, 856, 62, 937, 804, 1105, 561, 1867, 157, 1806, 1040, 114, 1765, 1374, 934, 807, 419, 722, 296, 375, 1070, 1921, 1196, 666, 1859, 499, 1692, 1193, 188, 1318, 1065, 1393, 548, 566, 527, 274, 442, 214, 1287, 1156, 1400, 232, 607, 151, 309, 486, 1263, 153, 1095, 1439, 1538, 1149, 603, 955, 736, 1069, 88, 904, 383, 125, 95, 767, 1584, 1397, 719, 229, 1715, 240, 179, 1534, 768, 1489, 1796, 239, 915, 1915, 26, 507, 1061, 48, 1746, 1120, 1819, 369, 989, 180, 1494, 645, 618, 1027, 887, 191, 1644, 950, 1665, 1085, 675, 1008, 1373, 1427, 1749, 216, 446, 1033, 1226, 895, 453, 615, 317, 424, 627, 1582, 1787, 304, 540, 94, 1417, 496, 705, 1246, 52, 1923, 1425, 1863, 8, 1482, 509, 1408, 452, 205, 104, 1024, 867, 1488, 1507, 756, 951, 1758, 1732, 395, 1238, 440, 1106, 284, 285, 57, 647, 377, 234, 1842, 428, 1023, 938, 208, 1910, 483, 200, 1701, 291, 349, 457, 1578, 1281, 55, 139, 1548, 608, 1480, 1028, 221, 168, 394, 53, 1336, 697, 258, 974, 821, 1329, 909, 1526, 929, 827, 490, 1042, 809, 236, 37, 31, 1444, 986, 318, 1136, 267, 1802, 225, 1596, 447, 282, 634, 790, 1332, 1062, 1710, 1674, 1364, 1351, 283, 731, 1247, 1783, 1607, 44, 326, 1025, 1550, 245, 415, 1031, 342, 403, 36, 1171, 231, 1179, 1096, 861, 128, 1697, 1274, 448, 1727, 1, 112, 23, 1632, 202, 1402, 965, 700, 49, 1189, 1707, 1282, 1264, 840, 253, 40, 1670, 1934, 175, 1071, 171, 1293, 1894, 1925, 1965, 761, 79, 1989, 973, 754, 1301, 1142, 1893, 67, 321, 1022, 19, 543, 1661, 1877, 725, 162, 1140, 1333, 529, 1604, 889, 1930, 262, 1278, 1094, 1003, 671, 427, 22, 392, 1211, 235, 1018, 276, 32, 594, 1200, 601, 1876, 1782, 347, 1938, 161, 150, 1331, 703, 489, 659, 921, 136, 957, 1410, 187, 890, 1123, 1016, 1359, 1614, 1606, 1595, 60, 911, 654, 1720, 87, 1906, 1135, 1165, 56, 1833, 1986, 1745, 1305, 399, 1911, 820, 1453, 158, 1708, 1294, 1354, 1449, 984, 1064, 1898, 1547, 337, 1527, 1002, 298, 426, 635, 1721, 829, 1304, 1543, 636, 717, 701, 811, 1961, 1666, 172, 565, 1352, 86, 568, 1207, 1455, 624, 1104, 893, 307, 467, 1679, 121, 1284, 1789, 1770, 1148, 1126, 1823, 75, 612, 1631, 1288, 398, 679, 1010, 354, 1513, 1291, 1975, 1523, 9, 1426, 367, 835, 535, 33, 1977, 574, 905, 100, 1703, 228, 868, 898, 1613, 1917, 1050, 1928, 1668, 550, 1794, 1980, 1081, 1055, 144, 1545, 720, 733, 186, 629, 1174, 140, 3, 20, 252, 5, 1743, 1772, 408, 978, 1611, 1131, 1341, 142, 924, 593, 1600, 940, 552, 880, 586, 206, 1922, 1232, 709, 1021, 1490, 1038, 1012, 1524, 1669, 325, 834, 1803, 1956, 313, 373, 1885, 1143, 30, 1622, 1972, 521, 129, 1780, 1414, 328, 355, 1557, 1653, 1090, 580, 432, 402, 646, 1338, 1648, 613, 1593, 927, 1108, 1386, 772, 1635, 302, 327, 1395, 872, 964, 1944, 414, 591, 795, 222, 303, 1948, 1321, 459, 993, 1353, 497, 588, 1011, 1957, 542, 359, 1034, 290, 1949, 1667, 1851, 1210, 1615, 224, 1850, 370, 495, 1463, 1297, 1412, 17, 90, 1572, 846, 411, 360, 470, 266, 665, 209, 458, 518, 391, 1779, 857, 1594, 583, 1713, 688, 741, 189, 1146, 632, 1852, 652, 306, 1539, 1939, 69, 1432, 792, 1942, 1738, 571, 1084, 681, 1946, 781, 371, 742, 1132, 159, 1804, 78, 655, 1815, 1640, 143, 50, 352, 271, 694, 340, 685, 1929, 438, 311, 449, 689, 1623, 913, 1391, 1966, 1610, 523, 845, 1619, 1413, 752, 1089, 1544, 651, 92, 1163, 836, 1216, 1872, 344, 374, 1763, 1468, 14, 279, 1190, 450, 557, 1377, 1756, 1188, 1355, 1731, 1793, 947, 1116, 863, 1601, 1990, 1522, 386, 1718, 1528, 1101, 1702, 1221, 806, 199, 1273, 1714, 106, 27, 658, 808, 244, 531, 1711, 996, 1496, 1006, 84, 1919, 350, 1260, 152, 1420, 133, 1240, 322, 587, 1248, 1472, 564, 831, 847, 64, 1495, 1484, 1454, 1229, 870, 406, 417, 1099, 365, 1334, 1549, 1098, 255, 944, 1109, 488, 353, 1396, 1970, 1155, 24, 815, 1231, 616, 554, 7, 341, 1298, 217, 941, 1812, 1328, 1831, 107, 1362, 1690, 644, 1178, 1456, 515, 1529, 1676, 1586, 1219, 1736, 908, 1857, 1768, 1571, 1533, 637, 1265, 605, 1441, 1460, 1580, 1152, 265, 346, 1734, 1913, 212, 1515, 609, 233, 387, 1589, 765, 871, 547, 264, 332, 1897, 1617, 1399, 1361, 295, 674, 1088, 1814, 1419, 650, 844, 102, 676, 1686, 759, 505, 758, 1730, 788, 1813, 1111, 1875, 1394, 1861, 93, 351, 173, 1918, 858, 1858, 721, 256, 1435, 1645, 300, 1847, 1214, 1536, 1122, 243, 96, 959, 1001, 614, 855, 314, 1379, 237, 852, 1830, 783, 800, 610, 323, 1388, 962, 1117, 1060, 301, 1684, 715, 116, 899, 63, 1020, 1046, 581, 1531, 1313, 29, 918, 649, 1107, 1767, 1573, 896, 1508, 1044, 1166, 1322, 1860, 1889, 1627, 372, 1286, 1087, 698, 316, 1467, 622, 1180, 1755, 779, 405, 1337, 530, 384, 1159, 174, 1537, 1853, 1904, 667, 1000, 1618, 330, 185, 1057, 89, 1556, 1704, 1655, 1540, 1568, 1518, 695, 1689, 1307, 156, 1187, 648, 1356, 1406, 553, 936, 1153, 1672, 1535, 1871, 115, 828, 1899, 508, 1151, 524, 1683, 1485, 259, 1759, 91, 126, 712, 1405, 1869, 892, 617, 1818, 1345, 714, 797, 850, 1124, 1609, 1253, 294, 1954, 1558, 1139, 802, 1241, 45, 1874, 1469, 886, 1019, 972, 1434, 2, 538, 558, 338, 1348, 841, 1075, 748, 1747, 970, 1249, 482, 493, 1888, 732, 1051, 693, 1184, 1979, 891, 473, 1712, 753, 687, 1289, 397, 606, 1560, 1855, 141, 1054, 1477, 1365, 745, 119, 1719, 740, 1936, 1172, 784, 1612, 99, 1045, 1299, 573, 803, 866, 378, 1960, 1567, 1844, 902, 6, 910, 441, 1448, 1134, 1920, 47, 1277, 826, 201, 1503, 334, 1717, 433, 464, 757, 251, 492, 1509, 513, 544, 1118, 1940, 1255, 77, 560, 1177, 537, 1043, 1903, 1931, 1372, 1737, 1100, 865, 1769, 1168, 1565, 1063, 860, 620, 969, 396, 696, 1430, 1320, 1900, 145, 728, 1138, 1663, 1483, 585, 1626, 155, 1078, 1566, 555, 506, 980, 1884, 1646, 1473, 945, 1481, 418, 1969, 832, 1764, 749, 1292, 954, 1620, 1223, 1367, 1004, 1542, 1492, 1086, 1816, 1387, 743, 1035, 976, 590, 519, 485, 1879, 1641, 1636, 1066, 1951, 1437, 967, 269, 1145, 1798, 639, 883, 1837, 1785, 1991, 1097, 1630, 1647, 729, 1475, 1660, 780, 431, 597, 1583, 41, 0, 481, 500, 1724, 1797, 1433, 1206, 1896, 1275, 435, 640, 1625, 1638, 46, 422, 270, 1751, 735, 981, 277, 1722, 476, 1325, 1827, 838, 1658, 877, 1790, 1056, 494, 1268, 1237, 474, 642, 738, 1650, 633, 1502, 382, 818, 1693, 59, 769, 1233, 1470, 1195, 1170, 1452, 436, 1014, 1671, 498, 260, 149, 1130, 1987, 1998, 111, 1032, 960, 1466, 103, 1882, 1835, 621, 1982, 1553, 1251, 626, 343, 1585, 1285, 1256, 1996, 1822, 361, 1577, 525, 1757, 897, 747, 1314, 1754, 1252, 1037, 1805, 1398, 1685, 218, 782, 1761, 1811, 1643, 773, 193, 994, 1971, 1102, 1141, 1401, 268, 998, 1431, 1157, 308, 1347, 1315, 1181, 1059, 1479, 1629, 1504, 1891, 1245, 1810, 1385, 1169, 1976, 1360, 197, 1581, 468, 1147, 1912, 1416, 1856, 1995, 692, 901, 1194, 760, 778, 1371, 1204, 968, 1868, 669, 287, 1203, 724, 1825, 1776, 604, 1924, 1383, 935, 1841, 407, 1832, 982, 1340, 358, 167, 1821, 1428, 1862, 734, 737, 1895, 1013, 1691, 1058, 1633, 1215, 819, 381, 707, 1407, 275, 1992, 1017, 1959, 775, 1985, 463, 1344, 288, 1506, 1380, 948, 751, 1777, 281, 484, 1382, 1616, 1520, 1562, 1072, 992, 329, 1795, 1914, 699, 1530, 611, 1415, 401, 971, 791, 504, 122, 572, 853, 630, 1150, 1637, 58, 1357, 1447, 1103, 1654, 1458, 1521, 1834, 1555, 1197, 1564, 1621, 1497, 1978, 1967, 204, 1828, 1175, 643, 1681, 1276, 919, 1733, 570, 1838, 1029, 1443, 930, 1994, 684, 1339, 132, 1133, 1752, 1809, 534, 1422, 1092, 1083, 1053, 74, 851, 1381, 1839, 942, 1039, 380, 1590, 903, 1605, 1880, 912, 1651, 61, 1541, 595, 1218, 1829, 1981, 1471, 430, 261, 1792, 1119, 1799, 1808, 1517, 1807, 1499, 718, 1280, 1009, 292, 425, 1801, 437, 602, 451, 988, 1302, 823, 1476, 1570, 1988, 1158, 1375, 711, 1160, 1048, 660, 211, 1700, 576, 368, 1905, 1403, 796, 1068, 672, 1883, 1227, 878, 963, 1597, 1603, 1551, 1500, 1532, 1726, 881, 413, 678, 1890, 1687, 933, 1656, 1699, 1438, 517, 1836, 794, 364, 702, 1901, 546, 1113, 990, 977, 1997, 1411, 1464, 1968, 628, 1694, 563, 625, 1973, 1886, 1673, 926, 1778, 1781, 1236, 854, 1409, 135, 1262, 1927, 1993, 932, 1784, 1864, 787, 118, 28, 1773, 691, 677, 1493, 839, 1933, 1370, 1952, 1953, 949, 1628, 1680, 1892, 873, 664, 1887, 1774, 477, 916, 389, 1729, 668, 4, 1826, 1036, 1290, 1164, 1162, 1849, 423, 1741, 536, 1958, 1363, 739, 923, 1091, 1709, 1599, 1642, 1624, 1984, 183, 1212, 412, 1161, 1205, 1154, 1576, 21, 1866, 885, 952, 1791, 1592, 1335, 1505, 1192, 238, 1440, 1873, 766, 1129, 1744, 859, 1762, 1926, 1114, 1963, 917, 1742, 1907, 713, 1962, 1698, 690, 1945, 1546, 1748, 799, 1269, 1324, 443, 1271, 762, 348, 1947, 1659, 673, 1201, 250, 1242, 1525, 1254, 1820, 1225, 774, 764, 1368, 1429, 1182, 1224, 1552, 1786, 80, 1323, 421, 1390, 1608, 1569, 680, 1311, 1389, 979, 1312, 1950, 213]\n",
      "\n",
      " BASELINE evaluation\n",
      "              precision    recall  f1-score   support\n",
      "\n",
      "           0       0.99      1.00      1.00     18058\n",
      "       GEO-B       0.73      0.34      0.46        47\n",
      "       GEO-I       0.00      0.00      0.00         1\n",
      "       GRP-B       0.50      0.29      0.37        34\n",
      "       PRS-B       0.75      0.77      0.76       376\n",
      "       PRS-I       0.77      0.49      0.60       160\n",
      "\n",
      "    accuracy                           0.99     18676\n",
      "   macro avg       0.62      0.48      0.53     18676\n",
      "weighted avg       0.98      0.99      0.98     18676\n",
      "\n"
     ]
    },
    {
     "name": "stderr",
     "output_type": "stream",
     "text": [
      "c:\\Users\\wenz\\Documents\\GitHub\\Latin-NER-NLP\\.venv\\Lib\\site-packages\\sklearn\\metrics\\_classification.py:1565: UndefinedMetricWarning: Precision is ill-defined and being set to 0.0 in labels with no predicted samples. Use `zero_division` parameter to control this behavior.\n",
      "  _warn_prf(average, modifier, f\"{metric.capitalize()} is\", len(result))\n",
      "c:\\Users\\wenz\\Documents\\GitHub\\Latin-NER-NLP\\.venv\\Lib\\site-packages\\sklearn\\metrics\\_classification.py:1565: UndefinedMetricWarning: Precision is ill-defined and being set to 0.0 in labels with no predicted samples. Use `zero_division` parameter to control this behavior.\n",
      "  _warn_prf(average, modifier, f\"{metric.capitalize()} is\", len(result))\n",
      "c:\\Users\\wenz\\Documents\\GitHub\\Latin-NER-NLP\\.venv\\Lib\\site-packages\\sklearn\\metrics\\_classification.py:1565: UndefinedMetricWarning: Precision is ill-defined and being set to 0.0 in labels with no predicted samples. Use `zero_division` parameter to control this behavior.\n",
      "  _warn_prf(average, modifier, f\"{metric.capitalize()} is\", len(result))\n"
     ]
    }
   ],
   "source": [
    "\n",
    "#embs to numpy to utilize clustering\n",
    "word_embeddings = [token['embedding'] for token in all_tokens]  \n",
    "X = torch.stack(word_embeddings).numpy()  # shape: (num_tokens, hidden_size)\n",
    "\n",
    "\n",
    "# clustering itself starts here\n",
    "n_clusters = 2_000 #play with it\n",
    "kmeans = KMeans(n_clusters=n_clusters, random_state=42).fit(X)\n",
    "cluster_ids = kmeans.labels_  # extract id of the cluster for each token\n",
    "\n",
    "# I SIMPLIFIED THE PROBLEM TO ENTITY/NON-ENTITY\n",
    "# !TBD: try without flattening, look at Span F1\n",
    "\n",
    "true_flat = [label for word in y for label in word] #gold labels \n",
    "\n",
    "# for sentence in y:\n",
    "#     for label in sentence:\n",
    "#         true_flat.append(1 if label != '0' else 0)\n",
    "\n",
    "\n",
    "cluster_to_true = defaultdict(list)\n",
    "for c_id, t in zip(cluster_ids, true_flat): # c_id = cluster id, t = true label\n",
    "    cluster_to_true[c_id].append(t) # count how many entities in each cluster\n",
    "\n",
    "\n",
    "# cluster_to_entity = {cid: (sum(labels) / len(labels)) >= 0.5 for cid, labels in cluster_to_true.items()} # majority vote for entity/non-entity\n",
    "cluster_to_entity = {cid: max(set(labels), key = labels.count) for cid, labels in cluster_to_true.items()}\n",
    "# !TBD 50% is not set in stone, play with it\n",
    "print(f\"Cluster mapping (Entity clusters): {[cid for cid, is_entity in cluster_to_entity.items() if is_entity]}\")\n",
    "\n",
    "# Predict entity/non-entity per token based on its cluster\n",
    "pred_entity_flat = [cluster_to_entity[c_id] for c_id in cluster_ids]\n",
    "print(\"\\n BASELINE evaluation\")\n",
    "print(classification_report(true_flat, pred_entity_flat))\n"
   ]
  },
  {
   "cell_type": "markdown",
   "id": "5840f737",
   "metadata": {},
   "source": [
    "Checking how many clusters is a good amount"
   ]
  },
  {
   "cell_type": "code",
   "execution_count": 14,
   "id": "ac26fc63",
   "metadata": {},
   "outputs": [],
   "source": [
    "# from sklearn.cluster import KMeans\n",
    "# import matplotlib.pyplot as plt\n",
    "\n",
    "# inertias = []\n",
    "# K = range(300, 1000, 50)  # range of k values to test\n",
    "# K = [50,100,500,1000,2000,4000,8000,10000] # for testing purposes\n",
    "# for k in K:\n",
    "#     kmeans = KMeans(n_clusters=k, random_state=42)\n",
    "#     kmeans.fit(X)  # X is your data\n",
    "#     inertias.append(kmeans.inertia_)\n",
    "\n",
    "# plt.plot(K, inertias, 'bo-')\n",
    "# plt.xlabel('k')\n",
    "# plt.ylabel('Inertia')\n",
    "# plt.title('Elbow Method')\n",
    "# plt.show()"
   ]
  },
  {
   "attachments": {
    "image.png": {
     "image/png": "[encoded data removed]"
    }
   },
   "cell_type": "markdown",
   "id": "efb4bc72",
   "metadata": {},
   "source": [
    "![image.png](attachment:image.png)\n",
    "\n",
    "Given this image I eyeballed that a good amount of k would be 2.000 - using elbow method - and saving some computing power"
   ]
  },
  {
   "cell_type": "markdown",
   "id": "6654fd12",
   "metadata": {},
   "source": [
    "Sanity Split"
   ]
  },
  {
   "cell_type": "code",
   "execution_count": 57,
   "id": "0d4c2934",
   "metadata": {},
   "outputs": [
    {
     "name": "stdout",
     "output_type": "stream",
     "text": [
      "Epoch 50/500, Loss: 0.1967\n",
      "Epoch 100/500, Loss: 0.0533\n",
      "Epoch 150/500, Loss: 0.0252\n",
      "Epoch 200/500, Loss: 0.0154\n",
      "Epoch 250/500, Loss: 0.0105\n",
      "Epoch 300/500, Loss: 0.0077\n",
      "Epoch 350/500, Loss: 0.0059\n",
      "Epoch 400/500, Loss: 0.0047\n",
      "Epoch 450/500, Loss: 0.0038\n",
      "Epoch 500/500, Loss: 0.0031\n",
      "\n",
      " RECONSTRUCTED evaluation(scroll down, look at the entity metrics!)\n",
      "              precision    recall  f1-score   support\n",
      "\n",
      "           0       1.00      1.00      1.00     18058\n",
      "           1       0.69      0.72      0.71        47\n",
      "           2       0.50      1.00      0.67         1\n",
      "           3       0.84      0.94      0.89        34\n",
      "           4       0.92      0.91      0.92       376\n",
      "           5       1.00      0.62      0.76       160\n",
      "\n",
      "    accuracy                           0.99     18676\n",
      "   macro avg       0.83      0.87      0.82     18676\n",
      "weighted avg       0.99      0.99      0.99     18676\n",
      "\n"
     ]
    }
   ],
   "source": [
    "# reconstructing the model\n",
    "# it is needed to generalize\n",
    "in_size = X.shape[1] # 768, standard for BERT\n",
    "# !TBD: try different hidden sizes, play with it, more layers works worse for me \n",
    "# I've tried 1 hidden layer with 16, 32, 64 and 2 layers with 128\n",
    "# 1 layer with 32 works best so far\n",
    "# MAYBE create pipeline with evaluation to finetune\n",
    "# reconstructor = nn.Sequential(\n",
    "#     nn.Linear(in_size, 32),\n",
    "#     nn.ReLU(),\n",
    "#     #nn.Dropout(0.3), doesn't help\n",
    "#     nn.Linear(32, 1)  # output logits, I use BCEWithLogitsLoss, so no sigmoid here\n",
    "# )\n",
    "\n",
    "#Suggestions from CHAT-GPT: - seems to work better Epoch 10/10, Loss: 0.2511\n",
    "reconstructor = nn.Sequential(\n",
    "    nn.Linear(in_size, 32),\n",
    "    nn.GELU(),\n",
    "    nn.LayerNorm(32),  # or nn.BatchNorm1d(32)\n",
    "    nn.Linear(32, len(set(true_flat))),  # output logits, I use BCEWithLogitsLoss, so no sigmoid here\n",
    ")\n",
    "\n",
    "# class imbalance handling, without it, perfomance is terrible\n",
    "# !TBD you can try weighting them differently\n",
    "# pos_weight_val = len(true_flat) / sum(true_flat) - 1\n",
    "# pos_weight = torch.tensor([pos_weight_val], dtype=torch.float32)\n",
    "\n",
    "# loss_fn = nn.BCEWithLogitsLoss(pos_weight=pos_weight) # \n",
    "\n",
    "\n",
    "# I am slowly losing my mind - I'm copzing stackoverflow now and autocomplete is actually trying to complete this comment for me\n",
    "\n",
    "from sklearn.preprocessing import LabelEncoder\n",
    "label_encoder = LabelEncoder()\n",
    "y_flat = [label for sentence in y for label in sentence]  # Flatten the list of lists\n",
    "y_flat = list(label_encoder.fit_transform(y_flat)) # Encode labels as integers\n",
    "\n",
    "\n",
    "#Class weights for CrossEntropyLoss\n",
    "# counts = [true_flat.count(x) for x in set(true_flat)]\n",
    "# class_weights = [len(true_flat) / (x+1e-6) for x in counts]  # add small value to avoid division by zero\n",
    "# class_weights = [x / sum(class_weights) for x in class_weights]  # normalize weight\n",
    "# class_weights = torch.tensor(class_weights, dtype=torch.float32)\n",
    "\n",
    "X_tensor = torch.tensor(X, dtype=torch.float32)\n",
    "y_tensor = torch.tensor(y_flat, dtype=torch.long)\n",
    "\n",
    "counts = np.bincount(y_tensor, minlength=len(set(y_flat)))\n",
    "class_weights = counts.sum() / (counts + 1e-6)\n",
    "class_weights = class_weights / class_weights.sum()  # optional\n",
    "class_weights = torch.tensor(class_weights, dtype=torch.float32)\n",
    "loss_fn = nn.CrossEntropyLoss(weight=class_weights)\n",
    "\n",
    "optimizer = torch.optim.Adam(reconstructor.parameters(), lr=1e-3)\n",
    "\n",
    "# training\n",
    "epochs = 500\n",
    "for epoch in range(epochs):\n",
    "    optimizer.zero_grad()\n",
    "    logits = reconstructor(X_tensor).squeeze()  # output shape: (num_tokens,)\n",
    "    loss = loss_fn(logits, y_tensor)\n",
    "    loss.backward()\n",
    "    optimizer.step()\n",
    "    if (epoch + 1) % 50 == 0:  # print every 50 epochs\n",
    "        print(f\"Epoch {epoch+1}/{epochs}, Loss: {loss.item():.4f}\")\n",
    "    # print(f\"Epoch {epoch+1}/{epochs}, Loss: {loss.item():.4f}\")\n",
    "\n",
    "# predicting\n",
    "with torch.no_grad():\n",
    "    logits = reconstructor(X_tensor).squeeze()\n",
    "    recon_probs = torch.sigmoid(logits).numpy()\n",
    "    recon_bin = (recon_probs >= 0.5).astype(int)  # threshold 0.5\n",
    "\n",
    "# evaluation\n",
    "print(\"\\n RECONSTRUCTED evaluation(scroll down, look at the entity metrics!)\")\n",
    "recon_bin = torch.tensor(recon_bin, dtype=torch.long)\n",
    "predicted_classes = torch.argmax(recon_bin, dim=1).cpu().numpy()  # shape: [batch_size]\n",
    "print(classification_report(y_flat, predicted_classes))\n"
   ]
  },
  {
   "cell_type": "code",
   "execution_count": 49,
   "id": "f6c92bec",
   "metadata": {},
   "outputs": [
    {
     "data": {
      "text/plain": [
       "torch.Size([18676])"
      ]
     },
     "execution_count": 49,
     "metadata": {},
     "output_type": "execute_result"
    }
   ],
   "source": [
    "logits.shape"
   ]
  },
  {
   "cell_type": "code",
   "execution_count": null,
   "id": "2eb04759",
   "metadata": {},
   "outputs": [
    {
     "name": "stdout",
     "output_type": "stream",
     "text": [
      "Entities (start, end, type): [(0, 1, 'PRS'), (2, 3, 'PRS'), (71, 72, 'PRS'), (73, 74, 'PRS'), (114, 114, 'PRS'), (118, 118, 'PRS'), (180, 180, 'PRS'), (302, 303, 'PRS'), (304, 305, 'PRS'), (310, 310, 'GEO'), (511, 512, 'PRS'), (513, 514, 'PRS'), (520, 520, 'GEO'), (523, 523, 'GEO'), (526, 526, 'GEO'), (529, 529, 'GEO'), (533, 533, 'GEO'), (647, 648, 'PRS'), (649, 650, 'PRS'), (655, 656, 'PRS'), (660, 660, 'PRS'), (671, 671, 'PRS'), (686, 687, 'PRS'), (702, 702, 'PRS'), (714, 714, 'PRS'), (721, 721, 'PRS'), (725, 726, 'PRS'), (734, 735, 'PRS'), (745, 745, 'PRS'), (747, 747, 'PRS'), (755, 755, 'PRS'), (760, 760, 'PRS'), (785, 785, 'PRS'), (786, 786, 'PRS'), (790, 791, 'PRS'), (793, 793, 'PRS'), (802, 803, 'PRS'), (814, 814, 'PRS'), (819, 819, 'PRS'), (827, 827, 'PRS'), (831, 831, 'PRS'), (883, 883, 'PRS'), (910, 910, 'PRS'), (916, 916, 'PRS'), (977, 978, 'PRS'), (981, 982, 'PRS'), (994, 994, 'PRS'), (1009, 1009, 'PRS'), (1038, 1038, 'PRS'), (1056, 1056, 'PRS'), (1065, 1065, 'PRS'), (1089, 1089, 'PRS'), (1100, 1100, 'PRS'), (1141, 1141, 'PRS'), (1172, 1173, 'PRS'), (1176, 1177, 'PRS'), (1183, 1183, 'PRS'), (1217, 1217, 'PRS'), (1256, 1257, 'PRS'), (1281, 1281, 'PRS'), (1311, 1311, 'PRS'), (1316, 1316, 'PRS'), (1326, 1326, 'PRS'), (1348, 1348, 'PRS'), (1355, 1355, 'PRS'), (1404, 1404, 'PRS'), (1458, 1459, 'PRS'), (1460, 1461, 'PRS'), (1585, 1585, 'PRS'), (1589, 1589, 'PRS'), (1594, 1595, 'PRS'), (1596, 1597, 'PRS'), (1615, 1615, 'PRS'), (1616, 1616, 'PRS'), (1652, 1652, 'GRP'), (1738, 1738, 'GEO'), (1748, 1748, 'PRS'), (1771, 1771, 'PRS'), (1801, 1801, 'GRP'), (1828, 1829, 'PRS'), (1830, 1831, 'PRS'), (2592, 2593, 'PRS'), (2594, 2595, 'PRS'), (2700, 2700, 'GEO'), (2827, 2827, 'PRS'), (2843, 2844, 'PRS'), (2845, 2846, 'PRS'), (2869, 2869, 'PRS'), (2875, 2875, 'GEO'), (2970, 2970, 'PRS'), (2991, 2991, 'PRS'), (3106, 3107, 'PRS'), (3196, 3196, 'PRS'), (3309, 3310, 'PRS'), (3311, 3312, 'PRS'), (3388, 3389, 'PRS'), (3390, 3391, 'PRS'), (3407, 3408, 'PRS'), (3466, 3466, 'PRS'), (3602, 3602, 'PRS'), (3718, 3718, 'PRS'), (3721, 3722, 'PRS'), (3728, 3728, 'PRS'), (3759, 3759, 'PRS'), (3760, 3761, 'PRS'), (3885, 3885, 'PRS'), (3945, 3946, 'PRS'), (3947, 3948, 'PRS'), (4052, 4053, 'PRS'), (4058, 4058, 'GEO'), (4070, 4070, 'PRS'), (4203, 4204, 'PRS'), (4205, 4206, 'PRS'), (4277, 4278, 'PRS'), (4293, 4294, 'PRS'), (4333, 4333, 'GEO'), (4338, 4338, 'GEO'), (4355, 4356, 'PRS'), (4370, 4371, 'PRS'), (4391, 4392, 'PRS'), (4395, 4395, 'GEO'), (4401, 4401, 'PRS'), (4403, 4403, 'GRP'), (4413, 4414, 'PRS'), (4437, 4437, 'PRS'), (4615, 4616, 'PRS'), (4617, 4618, 'PRS'), (4708, 4708, 'GRP'), (4770, 4771, 'PRS'), (4772, 4772, 'PRS'), (4776, 4777, 'PRS'), (4919, 4919, 'PRS'), (4922, 4922, 'PRS'), (4927, 4927, 'PRS'), (4929, 4929, 'PRS'), (4953, 4953, 'PRS'), (4955, 4955, 'PRS'), (4966, 4966, 'PRS'), (4968, 4968, 'PRS'), (5106, 5107, 'PRS'), (5108, 5109, 'PRS'), (5127, 5128, 'PRS'), (5138, 5139, 'PRS'), (5165, 5165, 'PRS'), (5179, 5179, 'PRS'), (5180, 5180, 'PRS'), (5181, 5181, 'PRS'), (5208, 5208, 'PRS'), (5214, 5214, 'PRS'), (5231, 5231, 'GRP'), (5238, 5239, 'PRS'), (5240, 5241, 'PRS'), (5312, 5313, 'PRS'), (5345, 5345, 'PRS'), (5476, 5477, 'PRS'), (5478, 5479, 'PRS'), (5547, 5547, 'GRP'), (5613, 5614, 'PRS'), (5615, 5616, 'PRS'), (5700, 5700, 'GRP'), (5702, 5702, 'PRS'), (5707, 5707, 'PRS'), (5708, 5708, 'PRS'), (5719, 5719, 'PRS'), (5720, 5720, 'PRS'), (5721, 5721, 'PRS'), (5722, 5722, 'PRS'), (5726, 5726, 'PRS'), (5728, 5728, 'PRS'), (5729, 5729, 'PRS'), (5730, 5730, 'PRS'), (5731, 5731, 'PRS'), (5735, 5736, 'PRS'), (5851, 5851, 'PRS'), (5853, 5853, 'PRS'), (5855, 5855, 'PRS'), (5883, 5883, 'PRS'), (5895, 5896, 'PRS'), (6002, 6002, 'PRS'), (6013, 6013, 'PRS'), (6174, 6174, 'PRS'), (6318, 6318, 'PRS'), (6322, 6322, 'PRS'), (6355, 6355, 'PRS'), (6403, 6403, 'PRS'), (6527, 6527, 'PRS'), (6712, 6713, 'PRS'), (6714, 6715, 'PRS'), (6779, 6780, 'PRS'), (6781, 6782, 'PRS'), (6800, 6801, 'PRS'), (7189, 7189, 'GEO'), (7261, 7262, 'PRS'), (7263, 7264, 'PRS'), (7460, 7461, 'PRS'), (7462, 7463, 'PRS'), (7466, 7466, 'PRS'), (7516, 7516, 'PRS'), (7611, 7612, 'PRS'), (7613, 7614, 'PRS'), (7625, 7625, 'GRP'), (7631, 7632, 'PRS'), (7810, 7811, 'PRS'), (8049, 8049, 'PRS'), (8052, 8052, 'PRS'), (8055, 8055, 'PRS'), (8083, 8084, 'PRS'), (8085, 8085, 'PRS'), (8175, 8175, 'GEO'), (8211, 8212, 'PRS'), (8213, 8213, 'PRS'), (8217, 8217, 'PRS'), (8242, 8242, 'GRP'), (8245, 8245, 'GRP'), (8449, 8449, 'PRS'), (8487, 8487, 'GEO'), (8489, 8490, 'PRS'), (8596, 8596, 'PRS'), (8601, 8601, 'GEO'), (8603, 8603, 'PRS'), (8620, 8620, 'PRS'), (8622, 8622, 'PRS'), (8644, 8644, 'PRS'), (8654, 8655, 'PRS'), (8656, 8656, 'PRS'), (8844, 8845, 'PRS'), (8846, 8846, 'PRS'), (9286, 9287, 'PRS'), (9288, 9288, 'PRS'), (9586, 9587, 'PRS'), (9588, 9588, 'PRS'), (9594, 9595, 'PRS'), (9642, 9642, 'PRS'), (9643, 9643, 'GRP'), (9680, 9680, 'PRS'), (9712, 9712, 'PRS'), (9812, 9812, 'PRS'), (9883, 9884, 'PRS'), (9885, 9885, 'PRS'), (9903, 9903, 'GEO'), (9995, 9996, 'PRS'), (9997, 9997, 'PRS'), (10006, 10007, 'PRS'), (10042, 10042, 'PRS'), (10046, 10046, 'PRS'), (10070, 10070, 'PRS'), (10120, 10121, 'PRS'), (10145, 10146, 'PRS'), (10239, 10240, 'PRS'), (10241, 10241, 'PRS'), (10284, 10284, 'GRP'), (10506, 10507, 'PRS'), (10508, 10508, 'PRS'), (10561, 10562, 'PRS'), (10564, 10564, 'GRP'), (10577, 10578, 'PRS'), (10592, 10592, 'PRS'), (10614, 10615, 'PRS'), (10667, 10668, 'PRS'), (10675, 10675, 'PRS'), (10763, 10764, 'PRS'), (10766, 10767, 'PRS'), (10771, 10771, 'PRS'), (10776, 10776, 'GRP'), (10783, 10783, 'PRS'), (10786, 10786, 'GRP'), (10808, 10808, 'PRS'), (10815, 10815, 'PRS'), (10819, 10819, 'PRS'), (10822, 10823, 'PRS'), (10830, 10830, 'PRS'), (10941, 10941, 'PRS'), (11057, 11057, 'PRS'), (11102, 11102, 'PRS'), (11103, 11104, 'PRS'), (11131, 11131, 'PRS'), (11132, 11133, 'PRS'), (11151, 11152, 'PRS'), (11166, 11166, 'PRS'), (11168, 11169, 'PRS'), (11222, 11223, 'PRS'), (11239, 11239, 'PRS'), (11243, 11243, 'PRS'), (11245, 11245, 'GEO'), (11248, 11248, 'PRS'), (11251, 11251, 'GEO'), (11261, 11261, 'PRS'), (11290, 11291, 'PRS'), (11300, 11300, 'PRS'), (11305, 11305, 'PRS'), (11338, 11338, 'PRS'), (11360, 11360, 'PRS'), (11369, 11369, 'PRS'), (11376, 11376, 'PRS'), (11389, 11389, 'PRS'), (11404, 11404, 'PRS'), (11426, 11427, 'PRS'), (11429, 11430, 'PRS'), (11443, 11443, 'PRS'), (11452, 11452, 'GRP'), (11456, 11456, 'PRS'), (11464, 11464, 'PRS'), (11497, 11497, 'PRS'), (11555, 11556, 'PRS'), (11557, 11557, 'PRS'), (11565, 11566, 'PRS'), (11581, 11581, 'PRS'), (11596, 11597, 'PRS'), (11602, 11603, 'PRS'), (11802, 11803, 'PRS'), (11804, 11804, 'PRS'), (11882, 11883, 'PRS'), (11912, 11913, 'GEO'), (11996, 11996, 'GRP'), (11998, 11998, 'GRP'), (12161, 12162, 'PRS'), (12163, 12163, 'PRS'), (12226, 12226, 'PRS'), (12243, 12243, 'PRS'), (12349, 12349, 'GRP'), (12353, 12353, 'GRP'), (12477, 12478, 'PRS'), (12489, 12489, 'PRS'), (12501, 12502, 'PRS'), (12562, 12562, 'PRS'), (12569, 12569, 'GRP'), (12587, 12587, 'PRS'), (12682, 12683, 'PRS'), (12684, 12684, 'PRS'), (12691, 12691, 'GRP'), (12748, 12749, 'PRS'), (12750, 12750, 'PRS'), (12762, 12762, 'PRS'), (12825, 12825, 'PRS'), (12895, 12896, 'PRS'), (12897, 12897, 'PRS'), (12903, 12903, 'GEO'), (12911, 12911, 'GEO'), (12960, 12960, 'GEO'), (12962, 12962, 'GEO'), (12967, 12967, 'GEO'), (12973, 12973, 'GEO'), (13105, 13105, 'GEO'), (13426, 13426, 'GEO'), (13561, 13561, 'GEO'), (13947, 13947, 'PRS'), (14028, 14028, 'GRP'), (14181, 14182, 'PRS'), (14183, 14183, 'PRS'), (14391, 14392, 'PRS'), (14393, 14393, 'PRS'), (14637, 14637, 'GRP'), (14753, 14754, 'PRS'), (14755, 14755, 'PRS'), (14781, 14781, 'PRS'), (14782, 14782, 'PRS'), (14788, 14788, 'PRS'), (14791, 14791, 'PRS'), (14796, 14796, 'PRS'), (14906, 14906, 'PRS'), (14932, 14932, 'PRS'), (14954, 14955, 'PRS'), (14967, 14967, 'PRS'), (15022, 15022, 'PRS'), (15029, 15029, 'PRS'), (15048, 15048, 'PRS'), (15057, 15057, 'PRS'), (15073, 15073, 'PRS'), (15105, 15105, 'PRS'), (15153, 15153, 'PRS'), (15218, 15219, 'PRS'), (15220, 15221, 'PRS'), (15235, 15235, 'PRS'), (15305, 15305, 'PRS'), (15565, 15565, 'GEO'), (15654, 15654, 'PRS'), (15720, 15721, 'PRS'), (15722, 15723, 'PRS'), (15747, 15748, 'PRS'), (15749, 15749, 'GEO'), (15890, 15891, 'PRS'), (15892, 15893, 'PRS'), (16013, 16013, 'GRP'), (16057, 16058, 'PRS'), (16123, 16123, 'PRS'), (16189, 16190, 'PRS'), (16191, 16192, 'PRS'), (16241, 16241, 'GEO'), (16252, 16252, 'GEO'), (16257, 16258, 'PRS'), (16316, 16317, 'PRS'), (16414, 16414, 'GRP'), (16463, 16463, 'PRS'), (16560, 16561, 'PRS'), (16562, 16563, 'PRS'), (16630, 16631, 'PRS'), (16649, 16649, 'GRP'), (16657, 16657, 'GRP'), (16665, 16665, 'GEO'), (16674, 16675, 'PRS'), (16679, 16679, 'GRP'), (16724, 16724, 'PRS'), (16743, 16744, 'PRS'), (16819, 16819, 'PRS'), (16863, 16863, 'PRS'), (17102, 17102, 'GEO'), (17171, 17171, 'GEO'), (17176, 17177, 'PRS'), (17333, 17334, 'PRS'), (17335, 17336, 'PRS'), (17347, 17347, 'GRP'), (17489, 17489, 'GRP'), (17506, 17506, 'PRS'), (17625, 17626, 'PRS'), (17627, 17628, 'PRS'), (17634, 17635, 'PRS'), (17637, 17637, 'GEO'), (17689, 17689, 'PRS'), (17698, 17698, 'PRS'), (17708, 17708, 'GEO'), (17778, 17778, 'GEO'), (17792, 17792, 'PRS'), (17847, 17847, 'PRS'), (17858, 17858, 'GEO'), (17898, 17898, 'PRS'), (17910, 17910, 'PRS'), (17916, 17916, 'PRS'), (17942, 17942, 'PRS'), (17968, 17969, 'PRS'), (17972, 17972, 'PRS'), (17976, 17977, 'PRS'), (17982, 17982, 'GEO'), (18026, 18026, 'PRS'), (18126, 18127, 'PRS'), (18128, 18129, 'PRS'), (18149, 18150, 'PRS'), (18157, 18158, 'PRS'), (18274, 18274, 'PRS'), (18295, 18296, 'PRS'), (18297, 18298, 'PRS'), (18309, 18309, 'GEO'), (18332, 18333, 'PRS'), (18355, 18355, 'GEO'), (18356, 18357, 'PRS'), (18361, 18361, 'PRS'), (18363, 18363, 'GEO'), (18366, 18366, 'GEO'), (18367, 18367, 'PRS'), (18371, 18371, 'GRP'), (18392, 18392, 'PRS'), (18402, 18402, 'PRS'), (18454, 18454, 'GEO'), (18475, 18475, 'GRP'), (18481, 18481, 'PRS'), (18491, 18491, 'GRP'), (18493, 18494, 'PRS'), (18642, 18642, 'PRS')]\n",
      "Entity words: [('C. Plinius', 'PRS'), ('Septicio Claro', 'PRS'), ('C. Plinius', 'PRS'), ('Maturo Arriano', 'PRS'), ('Demosthenen', 'PRS'), ('Calvum', 'PRS'), ('Marci', 'PRS'), ('C. Plinius', 'PRS'), ('Caninio Rufo', 'PRS'), ('Comum', 'GEO'), ('C. Plinius', 'PRS'), ('Pompeiae Celerinae', 'PRS'), ('Ocriculano', 'GEO'), ('Narniensi', 'GEO'), ('Carsulano', 'GEO'), ('Perusino', 'GEO'), ('Narniensi', 'GEO'), ('C. Plinius', 'PRS'), ('Voconio Romano', 'PRS'), ('M. Regulo', 'PRS'), ('Domitiani', 'PRS'), ('Nerone', 'PRS'), ('Rustici Aruleni', 'PRS'), ('Rusticum', 'PRS'), ('Vitelliana', 'PRS'), ('Reguli', 'PRS'), ('Herennium Senecionem', 'PRS'), ('Mettius Carus', 'PRS'), ('Crasso', 'PRS'), ('Camerino', 'PRS'), ('Nerone', 'PRS'), ('Regulus', 'PRS'), ('Arrionillae', 'PRS'), ('Timonis', 'PRS'), ('Aruleni Rustici', 'PRS'), ('Regulus', 'PRS'), ('Metti Modesti', 'PRS'), ('Domitiano', 'PRS'), ('Regulus', 'PRS'), ('Secunde', 'PRS'), ('Modesto', 'PRS'), ('Modesto', 'PRS'), ('Modesto', 'PRS'), ('Modesti', 'PRS'), ('Caecilium Celerem', 'PRS'), ('Fabium Iustum', 'PRS'), ('Spurinnam', 'PRS'), ('Plinium', 'PRS'), ('Spurinna', 'PRS'), ('Liviae', 'PRS'), ('Reguli', 'PRS'), ('Regulo', 'PRS'), ('Mauricum', 'PRS'), ('Regulus', 'PRS'), ('Satrio Rufo', 'PRS'), ('Satrius Rufus', 'PRS'), ('Cicerone', 'PRS'), ('Cicerone', 'PRS'), ('Metti Modesti', 'PRS'), ('Modesto', 'PRS'), ('Domitianum', 'PRS'), ('Regulus', 'PRS'), ('Modestus', 'PRS'), ('Mauricus', 'PRS'), ('Regulum', 'PRS'), ('Mauricum', 'PRS'), ('C. Plinius', 'PRS'), ('Cornelio Tacito', 'PRS'), ('Dianam', 'PRS'), ('Minervam', 'PRS'), ('C. Plinius', 'PRS'), ('Octavio Rufo', 'PRS'), ('Homerus', 'PRS'), ('Iovi', 'PRS'), ('Baeticis', 'GRP'), ('Romae', 'GEO'), ('Gallo', 'PRS'), ('Homericis', 'PRS'), ('Baeticos', 'GRP'), ('C. Plinius', 'PRS'), ('Pompeio Saturnino', 'PRS'), ('C. Plinius', 'PRS'), ('Minicio Fundano', 'PRS'), ('Laurentino', 'GEO'), ('Atilius', 'PRS'), ('C. Plinius', 'PRS'), ('Attio Clementi', 'PRS'), ('Euphrates', 'PRS'), ('Syria', 'GEO'), ('Euphrate', 'PRS'), ('Platonicam', 'PRS'), ('Pompeius Iulianus', 'PRS'), ('Euphraten', 'PRS'), ('C. Plinius', 'PRS'), ('Fabio Iusto', 'PRS'), ('C. Plinius', 'PRS'), ('Calestrio Tironi', 'PRS'), ('Corellius Rufus', 'PRS'), ('Corellium', 'PRS'), ('Domitiani', 'PRS'), ('Hispulla', 'PRS'), ('C. Geminium', 'PRS'), ('Corellium', 'PRS'), ('Hispulla', 'PRS'), ('Iulius Atticus', 'PRS'), ('Calvisio', 'PRS'), ('C. Plinius', 'PRS'), ('Sosio Senecioni', 'PRS'), ('Claudium Caesarem', 'PRS'), ('Palatio', 'GEO'), ('Nonianum', 'PRS'), ('C. Plinius', 'PRS'), ('Iunio Maurico', 'PRS'), ('Aruleno Rustico', 'PRS'), ('Minicius Acilianus', 'PRS'), ('Brixia', 'GEO'), ('Italia', 'GEO'), ('Minicius Macrinus', 'PRS'), ('Divo Vespasiano', 'PRS'), ('Serranam Proculam', 'PRS'), ('Patavio', 'GEO'), ('Serrana', 'PRS'), ('Patavinis', 'GRP'), ('P. Acilius', 'PRS'), ('Aciliano', 'PRS'), ('C. Plinius', 'PRS'), ('Septicio Claro', 'PRS'), ('Gaditanas', 'GRP'), ('C. Plinius', 'PRS'), ('Erucio', 'PRS'), ('Pompeium Saturninum', 'PRS'), ('Catullus', 'PRS'), ('Calvus', 'PRS'), ('Catullus', 'PRS'), ('Calvus', 'PRS'), ('Catullus', 'PRS'), ('Calvus', 'PRS'), ('Plautum', 'PRS'), ('Terentium', 'PRS'), ('C. Plinius', 'PRS'), ('Cornelio Titiano', 'PRS'), ('Titinius Capito', 'PRS'), ('L. Silani', 'PRS'), ('Capitoni', 'PRS'), ('Brutorum', 'PRS'), ('Cassiorum', 'PRS'), ('Catonum', 'PRS'), ('Silano', 'PRS'), ('Capito', 'PRS'), ('Romani', 'GRP'), ('C. Plinius', 'PRS'), ('Suetonio Tranquillo', 'PRS'), ('Iuni Pastoris', 'PRS'), ('Caesaris', 'PRS'), ('C. Plinius', 'PRS'), ('Romatio Firmo', 'PRS'), ('Romano', 'GRP'), ('C. Plinius', 'PRS'), ('Cornelio Tacito', 'PRS'), ('Graecis', 'GRP'), ('Lysiae', 'PRS'), ('Gracchorum', 'PRS'), ('Catonisque', 'PRS'), ('Lysiae', 'PRS'), ('Demosthenen', 'PRS'), ('Aeschinen', 'PRS'), ('Hyperiden', 'PRS'), ('Gracchis', 'PRS'), ('Catoni', 'PRS'), ('Pollionem', 'PRS'), ('Caesarem', 'PRS'), ('Caelium', 'PRS'), ('M. Tullium', 'PRS'), ('Ciceronis', 'PRS'), ('Murena', 'PRS'), ('Vareno', 'PRS'), ('Cluentio', 'PRS'), ('C. Cornelio', 'PRS'), ('Verrem', 'PRS'), ('Polyclitum', 'PRS'), ('Regulus', 'PRS'), ('Periclen', 'PRS'), ('Eupolide', 'PRS'), ('Pericli', 'PRS'), ('Pericle', 'PRS'), ('Homericum', 'PRS'), ('C. Plinius', 'PRS'), ('Plinio Paterno', 'PRS'), ('C. Plinius', 'PRS'), ('Catilio Severo', 'PRS'), ('Titi Aristonis', 'PRS'), ('Laurentinum', 'GEO'), ('C. Plinius', 'PRS'), ('Pompeio Falconi', 'PRS'), ('C. Plinius', 'PRS'), ('Baebio Hispano', 'PRS'), ('Tranquillus', 'PRS'), ('Tranquilli', 'PRS'), ('C. Plinius', 'PRS'), ('Voconio Romano', 'PRS'), ('Romani', 'GRP'), ('Vergini Rufi', 'PRS'), ('Cornelio Tacito', 'PRS'), ('Verginium', 'PRS'), ('Verginium', 'PRS'), ('Verginium', 'PRS'), ('C. Plinius', 'PRS'), ('Paulino', 'PRS'), ('Romae', 'GEO'), ('C. Plinius', 'PRS'), ('Nepoti', 'PRS'), ('Isaeum', 'PRS'), ('Graecus', 'GRP'), ('Atticus', 'GRP'), ('Isaeum', 'PRS'), ('Gaditanum', 'GEO'), ('Titi Livi', 'PRS'), ('Aeschinis', 'PRS'), ('Rhodiis', 'GEO'), ('Demosthenis', 'PRS'), ('Aeschines', 'PRS'), ('Demostheni', 'PRS'), ('Isaeum', 'PRS'), ('C. Plinius', 'PRS'), ('Calvinae', 'PRS'), ('C. Plinius', 'PRS'), ('Luperco', 'PRS'), ('C. Plinius', 'PRS'), ('Avito', 'PRS'), ('C. Plinius', 'PRS'), ('Macrino', 'PRS'), ('Vesticio Spurinnae', 'PRS'), ('Spurinna', 'PRS'), ('Bructerum', 'GRP'), ('Cottio', 'PRS'), ('Cottius', 'PRS'), ('Cotti', 'PRS'), ('C. Plinius', 'PRS'), ('Caninio', 'PRS'), ('Larium', 'GEO'), ('C. Plinius', 'PRS'), ('Apollinari', 'PRS'), ('Sexti Eruci', 'PRS'), ('Sexto', 'PRS'), ('Caesare', 'PRS'), ('Caesarem', 'PRS'), ('Erucius Clarus', 'PRS'), ('C. Septicium', 'PRS'), ('C. Plinius', 'PRS'), ('Octavio', 'PRS'), ('Romana', 'GRP'), ('C. Plinius', 'PRS'), ('Arriano', 'PRS'), ('Marius Priscus', 'PRS'), ('Afris', 'GRP'), ('Cornelius Tacitus', 'PRS'), ('Priscum', 'PRS'), ('Fronto Catius', 'PRS'), ('Iulius Ferox', 'PRS'), ('Mario', 'PRS'), ('Vitellius Honoratus', 'PRS'), ('Flavius Marcianus', 'PRS'), ('Honoratus', 'PRS'), ('Romani', 'GRP'), ('Marcianus', 'PRS'), ('Romani', 'GRP'), ('Honoratum', 'PRS'), ('Marcianus', 'PRS'), ('Prisco', 'PRS'), ('Tuccius Cerialis', 'PRS'), ('Priscus', 'PRS'), ('Caesare', 'PRS'), ('Caesar', 'PRS'), ('Marciano', 'PRS'), ('Claudius Marcellinus', 'PRS'), ('Mario', 'PRS'), ('Salvius Liberalis', 'PRS'), ('Cornelius Tacitus', 'PRS'), ('Mario', 'PRS'), ('Fronto Catius', 'PRS'), ('Cornutus Tertullus', 'PRS'), ('Marius', 'PRS'), ('Mario', 'PRS'), ('Italiaque', 'GEO'), ('Marciano', 'PRS'), ('Africa', 'GEO'), ('Tacitus', 'PRS'), ('Pompeium Collegam', 'PRS'), ('Marcianum', 'PRS'), ('Marium', 'PRS'), ('Cornuto', 'PRS'), ('Cornuti', 'PRS'), ('Collegae', 'PRS'), ('Collega', 'PRS'), ('Regulo', 'PRS'), ('Regulo', 'PRS'), ('Hostilius Firminus', 'PRS'), ('Mari Prisci', 'PRS'), ('Marciani', 'PRS'), ('Lepcitanorum', 'GRP'), ('Prisco', 'PRS'), ('Marciano', 'PRS'), ('Cornuto', 'PRS'), ('C. Plinius', 'PRS'), ('Arriano', 'PRS'), ('Mari Prisci', 'PRS'), ('Firminus', 'PRS'), ('Cornutus Tertullus', 'PRS'), ('Acutius Nerva', 'PRS'), ('C. Plinius', 'PRS'), ('Prisco', 'PRS'), ('Voconius Romanus', 'PRS'), ('citerioris Hispaniae', 'GEO'), ('Musas', 'GRP'), ('Latine', 'GRP'), ('C. Plinius', 'PRS'), ('Maximo', 'PRS'), ('Atilius', 'PRS'), ('Homero', 'PRS'), ('Latinum', 'GRP'), ('Laudiceni', 'GRP'), ('Larcius Licinus', 'PRS'), ('Quintiliano', 'PRS'), ('Domitium Afrum', 'PRS'), ('Licinus', 'PRS'), ('Centumviri', 'GRP'), ('Afro', 'PRS'), ('C. Plinius', 'PRS'), ('Valeriano', 'PRS'), ('Marsi', 'GRP'), ('C. Plinius', 'PRS'), ('Annio', 'PRS'), ('Aciliani', 'PRS'), ('Aciliani', 'PRS'), ('C. Plinius', 'PRS'), ('Gallo', 'PRS'), ('Laurentinum', 'GEO'), ('Laurens', 'GEO'), ('Laurentina', 'GEO'), ('Ostiensis', 'GEO'), ('Laurentina', 'GEO'), ('Ostiensis', 'GEO'), ('Africo', 'GEO'), ('Chianti', 'GEO'), ('Chianti', 'GEO'), ('Saturnalibus', 'PRS'), ('Ostiensis', 'GRP'), ('C. Plinius', 'PRS'), ('Maurico', 'PRS'), ('C. Plinius', 'PRS'), ('Ceriali', 'PRS'), ('Graecos', 'GRP'), ('C. Plinius', 'PRS'), ('Calcisio', 'PRS'), ('Verania', 'PRS'), ('Pisonis', 'PRS'), ('Pisonis', 'PRS'), ('Galba', 'PRS'), ('Regulus', 'PRS'), ('Regulo', 'PRS'), ('Regulus', 'PRS'), ('Velleius Blaesus', 'PRS'), ('Regulus', 'PRS'), ('Blaesus', 'PRS'), ('Regulo', 'PRS'), ('Aurelia', 'PRS'), ('Regulus', 'PRS'), ('Aurelia', 'PRS'), ('Aurelia', 'PRS'), ('Regulum', 'PRS'), ('C. Plinius', 'PRS'), ('Calvisio Rufo', 'PRS'), ('Spurinnam', 'PRS'), ('Spurinna', 'PRS'), ('Corinthia', 'GEO'), ('Spurinna', 'PRS'), ('C. Plinius', 'PRS'), ('Vibio Maximo', 'PRS'), ('Arrianus Maturus', 'PRS'), ('Altinatium', 'GEO'), ('C. Plinius', 'PRS'), ('Corelliae Hispullae', 'PRS'), ('Latinus', 'GRP'), ('Iulium Genitorem', 'PRS'), ('Genitore', 'PRS'), ('C. Plinius', 'PRS'), ('Caecilio Macrino', 'PRS'), ('Tuscos', 'GEO'), ('Baeticae', 'GEO'), ('Caecili Classici', 'PRS'), ('Massam Baebium', 'PRS'), ('Baeticis', 'GRP'), ('Classicus', 'PRS'), ('C. Plinius', 'PRS'), ('Baebio Macro', 'PRS'), ('Pomponi Secundi', 'PRS'), ('Germaniae', 'GRP'), ('Germanis', 'GRP'), ('Germania', 'GEO'), ('Drusi Neronis', 'PRS'), ('Germaniae', 'GRP'), ('Nerone', 'PRS'), ('Aufidi Bassi', 'PRS'), ('Vulcanalibus', 'PRS'), ('Vespasianum', 'PRS'), ('Romae', 'GEO'), ('Hispania', 'GEO'), ('Larcio Licino', 'PRS'), ('C. Plinius', 'PRS'), ('Annio Severo', 'PRS'), ('Corinthium', 'GRP'), ('Corinthium', 'GRP'), ('Iovis', 'PRS'), ('C. Plinius', 'PRS'), ('Caninio Rufo', 'PRS'), ('Silius Italicus', 'PRS'), ('Neapolitano', 'GEO'), ('Nerone', 'PRS'), ('Vitelli', 'PRS'), ('Asiae', 'GEO'), ('Campania', 'GEO'), ('Caesaris', 'PRS'), ('Vergili', 'PRS'), ('Neapoli', 'GEO'), ('Nero', 'PRS'), ('Neronianis', 'PRS'), ('Nero', 'PRS'), ('Nero', 'PRS'), ('L. Piso', 'PRS'), ('Pisonis', 'PRS'), ('Valerio Festo', 'PRS'), ('Africa', 'GEO'), ('Xersen', 'PRS'), ('C. Plinius', 'PRS'), ('Suetonio Tranquillo', 'PRS'), ('Neratio Marcello', 'PRS'), ('Caesennium Silvanum', 'PRS'), ('Silvanum', 'PRS'), ('C. Plinius', 'PRS'), ('Cornelio Miniciano', 'PRS'), ('Baeticae', 'GEO'), ('Caecilius Classicus', 'PRS'), ('Africa', 'GEO'), ('Marius Priscus', 'PRS'), ('Priscus', 'PRS'), ('Baetica', 'GEO'), ('Africa', 'GEO'), ('Classicus', 'PRS'), ('Baeticorum', 'GRP'), ('Marium', 'PRS'), ('Classicum', 'PRS'), ('Baetica', 'GEO'), ('Baetici', 'GRP'), ('Classici', 'PRS'), ('Bacticis', 'GRP'), ('Lucceius Albinus', 'PRS'), ('Sertorianum', 'PRS')]\n",
      "(1.0, 1.0, 1.0)\n",
      "(1.0, 1.0, 1.0)\n"
     ]
    }
   ],
   "source": [
    "# Metrics for both tokens and entities for Span-F1\n",
    "# Grabbing data still not fully worked out, so that will be done soon\n",
    "from sklearn.metrics import precision_score, recall_score, f1_score, classification_report\n",
    "\n",
    "# For token-level evaluation (i.e. Normal F1), this is how we used to do it in the past semesters\n",
    "def evaluate_for_tokens(y_true_flat, y_pred_flat):\n",
    "    # Weighted average accounts for class imbalance\n",
    "    precision = precision_score(y_true_flat, y_pred_flat, average='weighted') \n",
    "    recall = recall_score(y_true_flat, y_pred_flat, average='weighted')\n",
    "    f1 = f1_score(y_true_flat, y_pred_flat, average='weighted')\n",
    "    report = classification_report(y_true_flat, y_pred_flat)\n",
    "    return precision, recall, f1, report\n",
    "\n",
    "# For entity-level evaluation (i.e. Span-F1), this is looking specifically for entitities\n",
    "# It is the one that is recommended to us to use\n",
    "# Calculation is the same as above just uses entities instead of tokens (not accounting for weighted average)\n",
    "# Using custom calculation due to type sklearn not being able to use entities\n",
    "def evaluate_for_full_entity_matches(true_entities, pred_entities):\n",
    "    true_set = set((start, end, type_) for start, end, type_ in true_entities)\n",
    "    pred_set = set((start, end, type_) for start, end, type_ in pred_entities)\n",
    "    correct = len(true_set.intersection(pred_set))\n",
    "    precision = correct / len(pred_set)\n",
    "    recall = correct / len(true_set)\n",
    "    f1 = 2 * precision * recall / (precision + recall)\n",
    "    return precision, recall, f1\n",
    "\n",
    "# For partial matches\n",
    "def evaluate_for_partial_entity_matches(true_entities, pred_entities):\n",
    "    partial_matches = 0\n",
    "    for t_start, t_end, t_type in true_entities:\n",
    "        for p_start, p_end, p_type in pred_entities:\n",
    "            if (p_start <= t_end and p_end >= t_start and p_type == t_type): # The actual check for overlap (i.e. Partial Match)\n",
    "                partial_matches += 1\n",
    "                break\n",
    "    precision = partial_matches / len(pred_entities)\n",
    "    recall = partial_matches / len(true_entities)\n",
    "    f1 = 2 * precision * recall / (precision + recall)\n",
    "    return precision, recall, f1\n",
    "\n",
    "# Converting tokens to entities\n",
    "def tokens_to_entities(token_labels):\n",
    "    entities = []\n",
    "    current_entity = None\n",
    "    for i, label in enumerate(token_labels):\n",
    "        if label.startswith('B-'):\n",
    "            if current_entity:\n",
    "                entities.append(current_entity)\n",
    "            current_entity = [i, i, label[2:]]\n",
    "        elif label.startswith('I-') and current_entity and current_entity[2] == label[2:]:\n",
    "            current_entity[1] = i\n",
    "        elif label == 'O':\n",
    "            if current_entity:\n",
    "                entities.append(current_entity)\n",
    "                current_entity = None\n",
    "    if current_entity:\n",
    "        entities.append(current_entity)\n",
    "    return [(start, end, type_) for start, end, type_ in entities]\n",
    "\n",
    "# Setting up the right format for getting entities\n",
    "def process_text_file(file_path):\n",
    "    # Read the file\n",
    "    with open(file_path, 'r', encoding='utf-8') as f:\n",
    "        lines = f.readlines()\n",
    "    # Extract labels and words\n",
    "    original_labels = []\n",
    "    words = []\n",
    "    for line in lines:\n",
    "        if line.strip():  # Skip empty lines\n",
    "            parts = line.strip().split('\\t')\n",
    "            if len(parts) == 2:\n",
    "                label, word = parts\n",
    "                original_labels.append(label)\n",
    "                words.append(word)\n",
    "    # Convert labels to the expected format (B-TYPE, I-TYPE, O)\n",
    "    converted_labels = []\n",
    "    for label in original_labels:\n",
    "        if label == '0':\n",
    "            converted_labels.append('O')\n",
    "        elif '-B' in label:  # PRS-B -> B-PRS\n",
    "            entity_type = label.split('-')[0]\n",
    "            converted_labels.append(f'B-{entity_type}')\n",
    "        elif '-I' in label:  # PRS-I -> I-PRS\n",
    "            entity_type = label.split('-')[0]\n",
    "            converted_labels.append(f'I-{entity_type}')\n",
    "    # Get entities using the function\n",
    "    entities = tokens_to_entities(converted_labels)\n",
    "    # If you want to display the actual words in each entity\n",
    "    entity_words = []\n",
    "    for start, end, entity_type in entities:\n",
    "        entity_text = ' '.join(words[start:end+1])\n",
    "        entity_words.append((entity_text, entity_type))\n",
    "    return entities, entity_words\n",
    "\n",
    "# Example usage\n",
    "file_path =  \"pliny.txt\"\n",
    "entities, entity_words = process_text_file(file_path)\n",
    "print(\"Entities (start, end, type):\", entities)\n",
    "print(\"Entity words:\", entity_words)\n",
    "print(evaluate_for_full_entity_matches(entities, entities))\n",
    "print(evaluate_for_partial_entity_matches(entities, entities))"
   ]
  }
 ],
 "metadata": {
  "kernelspec": {
   "display_name": ".venv",
   "language": "python",
   "name": "python3"
  },
  "language_info": {
   "codemirror_mode": {
    "name": "ipython",
    "version": 3
   },
   "file_extension": ".py",
   "mimetype": "text/x-python",
   "name": "python",
   "nbconvert_exporter": "python",
   "pygments_lexer": "ipython3",
   "version": "3.11.9"
  }
 },
 "nbformat": 4,
 "nbformat_minor": 5
}
